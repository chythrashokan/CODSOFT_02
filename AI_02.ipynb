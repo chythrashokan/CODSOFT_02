{
  "nbformat": 4,
  "nbformat_minor": 0,
  "metadata": {
    "colab": {
      "provenance": []
    },
    "kernelspec": {
      "name": "python3",
      "display_name": "Python 3"
    },
    "language_info": {
      "name": "python"
    }
  },
  "cells": [
    {
      "cell_type": "code",
      "source": [
        "import math\n",
        "\n",
        "def print_board(board):\n",
        "    for row in board:\n",
        "        print(\" | \".join(row))\n",
        "        print(\"-\" * 9)"
      ],
      "metadata": {
        "id": "Iwf4ZNB8PNp1"
      },
      "execution_count": null,
      "outputs": []
    },
    {
      "cell_type": "code",
      "source": [
        "def is_winner(board, player):\n",
        "    win_states = [\n",
        "        # Rows\n",
        "        board[0], board[1], board[2],\n",
        "        # Columns\n",
        "        [board[0][0], board[1][0], board[2][0]],\n",
        "        [board[0][1], board[1][1], board[2][1]],\n",
        "        [board[0][2], board[1][2], board[2][2]],\n",
        "        # Diagonals\n",
        "        [board[0][0], board[1][1], board[2][2]],\n",
        "        [board[0][2], board[1][1], board[2][0]]\n",
        "    ]\n",
        "    return [player] * 3 in win_states\n"
      ],
      "metadata": {
        "id": "8d-wPxwMPOze"
      },
      "execution_count": null,
      "outputs": []
    },
    {
      "cell_type": "code",
      "source": [
        "def is_full(board):\n",
        "    return all(cell != ' ' for row in board for cell in row)"
      ],
      "metadata": {
        "id": "pM-lSLW7PaMd"
      },
      "execution_count": null,
      "outputs": []
    },
    {
      "cell_type": "code",
      "source": [
        "def minimax(board, is_maximizing):\n",
        "    if is_winner(board, 'O'):\n",
        "        return 1\n",
        "    elif is_winner(board, 'X'):\n",
        "        return -1\n",
        "    elif is_full(board):\n",
        "        return 0\n",
        "\n",
        "    if is_maximizing:\n",
        "        best_score = -math.inf\n",
        "        for i in range(3):\n",
        "            for j in range(3):\n",
        "                if board[i][j] == ' ':\n",
        "                    board[i][j] = 'O'\n",
        "                    score = minimax(board, False)\n",
        "                    board[i][j] = ' '\n",
        "                    best_score = max(score, best_score)\n",
        "        return best_score\n",
        "    else:\n",
        "        best_score = math.inf\n",
        "        for i in range(3):\n",
        "            for j in range(3):\n",
        "                if board[i][j] == ' ':\n",
        "                    board[i][j] = 'X'\n",
        "                    score = minimax(board, True)\n",
        "                    board[i][j] = ' '\n",
        "                    best_score = min(score, best_score)\n",
        "        return best_score"
      ],
      "metadata": {
        "id": "TUHijhVaPXHA"
      },
      "execution_count": null,
      "outputs": []
    },
    {
      "cell_type": "code",
      "source": [
        "def best_move(board):\n",
        "    best_score = -math.inf\n",
        "    move = None\n",
        "    for i in range(3):\n",
        "        for j in range(3):\n",
        "            if board[i][j] == ' ':\n",
        "                board[i][j] = 'O'\n",
        "                score = minimax(board, False)\n",
        "                board[i][j] = ' '\n",
        "                if score > best_score:\n",
        "                    best_score = score\n",
        "                    move = (i, j)\n",
        "    return move"
      ],
      "metadata": {
        "id": "J_NzlOHsPi7A"
      },
      "execution_count": null,
      "outputs": []
    },
    {
      "cell_type": "code",
      "source": [
        "def play_game():\n",
        "    board = [[' ' for _ in range(3)] for _ in range(3)]\n",
        "    print(\"You are X, AI is O. Let's start!\")\n",
        "\n",
        "    for turn in range(9):\n",
        "        print_board(board)\n",
        "        if turn % 2 == 0: # Human's turn\n",
        "            while True:\n",
        "                try:\n",
        "                    row = int(input(\"Enter row (0-2): \"))\n",
        "                    col = int(input(\"Enter col (0-2): \"))\n",
        "                    if board[row][col] == ' ':\n",
        "                        board[row][col] = 'X'\n",
        "                        break\n",
        "                    else:\n",
        "                        print(\"Cell is occupied. Try again.\")\n",
        "                except:\n",
        "                    print(\"Invalid input. Try again.\")\n",
        "        else: # AI's turn\n",
        "            print(\"AI is making a move...\")\n",
        "            move = best_move(board)\n",
        "            if move:\n",
        "                board[move[0]][move[1]] = 'O'\n",
        "\n",
        "        # Check for win\n",
        "        if is_winner(board, 'X'):\n",
        "            print_board(board)\n",
        "            print(\"You win!\")\n",
        "            return\n",
        "        elif is_winner(board, 'O'):\n",
        "            print_board(board)\n",
        "            print(\"AI wins!\")\n",
        "            return\n",
        "        elif is_full(board):\n",
        "            print_board(board)\n",
        "            print(\"It's a draw!\")\n",
        "            return\n",
        "play_game()"
      ],
      "metadata": {
        "colab": {
          "base_uri": "https://localhost:8080/"
        },
        "id": "8EI-SfOcPnhm",
        "outputId": "8fb676f4-0e05-4d98-fac9-ecd9119bb1f3"
      },
      "execution_count": null,
      "outputs": [
        {
          "output_type": "stream",
          "name": "stdout",
          "text": [
            "You are X, AI is O. Let's start!\n",
            "  |   |  \n",
            "---------\n",
            "  |   |  \n",
            "---------\n",
            "  |   |  \n",
            "---------\n",
            "Enter row (0-2): 1\n",
            "Enter col (0-2): 1\n",
            "  |   |  \n",
            "---------\n",
            "  | X |  \n",
            "---------\n",
            "  |   |  \n",
            "---------\n",
            "AI is making a move...\n",
            "O |   |  \n",
            "---------\n",
            "  | X |  \n",
            "---------\n",
            "  |   |  \n",
            "---------\n",
            "Enter row (0-2): 0\n",
            "Enter col (0-2): 2\n",
            "O |   | X\n",
            "---------\n",
            "  | X |  \n",
            "---------\n",
            "  |   |  \n",
            "---------\n",
            "AI is making a move...\n",
            "O |   | X\n",
            "---------\n",
            "  | X |  \n",
            "---------\n",
            "O |   |  \n",
            "---------\n",
            "Enter row (0-2): 1\n",
            "Enter col (0-2): 0\n",
            "O |   | X\n",
            "---------\n",
            "X | X |  \n",
            "---------\n",
            "O |   |  \n",
            "---------\n",
            "AI is making a move...\n",
            "O |   | X\n",
            "---------\n",
            "X | X | O\n",
            "---------\n",
            "O |   |  \n",
            "---------\n",
            "Enter row (0-2): 2\n",
            "Enter col (0-2): 1\n",
            "O |   | X\n",
            "---------\n",
            "X | X | O\n",
            "---------\n",
            "O | X |  \n",
            "---------\n",
            "AI is making a move...\n",
            "O | O | X\n",
            "---------\n",
            "X | X | O\n",
            "---------\n",
            "O | X |  \n",
            "---------\n",
            "Enter row (0-2): 2\n",
            "Enter col (0-2): 2\n",
            "O | O | X\n",
            "---------\n",
            "X | X | O\n",
            "---------\n",
            "O | X | X\n",
            "---------\n",
            "It's a draw!\n"
          ]
        }
      ]
    }
  ]
}